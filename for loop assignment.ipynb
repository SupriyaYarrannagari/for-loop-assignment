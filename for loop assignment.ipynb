{
 "cells": [
  {
   "cell_type": "markdown",
   "id": "23b8fa27",
   "metadata": {},
   "source": [
    "# Basic level questions"
   ]
  },
  {
   "cell_type": "code",
   "execution_count": 2,
   "id": "5b2993e0",
   "metadata": {},
   "outputs": [
    {
     "name": "stdout",
     "output_type": "stream",
     "text": [
      "1\n",
      "2\n",
      "3\n",
      "4\n",
      "5\n",
      "6\n",
      "7\n",
      "8\n",
      "9\n",
      "10\n"
     ]
    }
   ],
   "source": [
    "#1-Write a Python program to print the numbers from 1 to 10 using a `for` loop.\n",
    "for i in range(1,11):\n",
    "    print(i)"
   ]
  },
  {
   "cell_type": "code",
   "execution_count": 10,
   "id": "af609015",
   "metadata": {},
   "outputs": [
    {
     "name": "stdout",
     "output_type": "stream",
     "text": [
      "45\n"
     ]
    }
   ],
   "source": [
    "#2- Create a program that calculates the sum of all numbers in a list using a `for` loop.\n",
    "list=[1,2,3,4,5,6,7,8,9]\n",
    "sum=0\n",
    "for i in list:\n",
    "    sum+=i\n",
    "    i+=1\n",
    "print(sum)"
   ]
  },
  {
   "cell_type": "code",
   "execution_count": 31,
   "id": "20e9af15",
   "metadata": {},
   "outputs": [
    {
     "name": "stdout",
     "output_type": "stream",
     "text": [
      " !dlrow ,olleh\n"
     ]
    }
   ],
   "source": [
    "#3-Write a program to print the characters of a string in reverse order using a `for` loop.\n",
    "string=(\"hello, world!\")\n",
    "reverse_string=\" \"\n",
    "for char in reversed(string):\n",
    "    reverse_string+=char\n",
    "print(reverse_string)"
   ]
  },
  {
   "cell_type": "code",
   "execution_count": 38,
   "id": "310b82ef",
   "metadata": {},
   "outputs": [
    {
     "name": "stdout",
     "output_type": "stream",
     "text": [
      "enter the number:5\n",
      "the factrial of 5 is 120\n"
     ]
    }
   ],
   "source": [
    "#4-Develop a program that finds the factorial of a given number using a `for` loop.\n",
    "num=int(input(\"enter the number:\"))\n",
    "factorial=1\n",
    "for i in range(1,num+1):\n",
    "    factorial*=i\n",
    "print(f\"the factrial of {num} is {factorial}\")"
   ]
  },
  {
   "cell_type": "code",
   "execution_count": 48,
   "id": "46fd2983",
   "metadata": {},
   "outputs": [
    {
     "name": "stdout",
     "output_type": "stream",
     "text": [
      "enter the number:6\n",
      "multiplication of table for 6 :\n",
      "6 * 1 = 6\n",
      "6 * 2 = 12\n",
      "6 * 3 = 18\n",
      "6 * 4 = 24\n",
      "6 * 5 = 30\n",
      "6 * 6 = 36\n",
      "6 * 7 = 42\n",
      "6 * 8 = 48\n",
      "6 * 9 = 54\n",
      "6 * 10 = 60\n"
     ]
    }
   ],
   "source": [
    "#5-Create a program to print the multiplication table of a given number using a `for` loop.\n",
    "num=int(input(\"enter the number:\"))\n",
    "print(f\"multiplication of table for {num} :\")\n",
    "for i in range(1, 11):\n",
    "    product=num * i\n",
    "    print(f\"{num} * {i} = {product}\")"
   ]
  },
  {
   "cell_type": "code",
   "execution_count": 50,
   "id": "23d133e0",
   "metadata": {},
   "outputs": [
    {
     "name": "stdout",
     "output_type": "stream",
     "text": [
      "even_numbers: 5\n",
      "odd_numbers: 5\n"
     ]
    }
   ],
   "source": [
    "#6-Write a program that counts the number of even and odd numbers in a list using a `for` loop.\n",
    "list=[1,2,3,4,5,6,7,8,9,10]\n",
    "even_count=0\n",
    "odd_count=0\n",
    "for num in list:\n",
    "    if num%2==0:\n",
    "        even_count+=1\n",
    "    else:\n",
    "        odd_count+=1\n",
    "print(\"even_numbers:\",even_count)\n",
    "print(\"odd_numbers:\",odd_count)\n",
    "    "
   ]
  },
  {
   "cell_type": "code",
   "execution_count": 58,
   "id": "6c82231c",
   "metadata": {},
   "outputs": [
    {
     "name": "stdout",
     "output_type": "stream",
     "text": [
      "square_number of 1 is 25: 1\n",
      "square_number of 2 is 25: 4\n",
      "square_number of 3 is 25: 9\n",
      "square_number of 4 is 25: 16\n",
      "square_number of 5 is 25: 25\n"
     ]
    }
   ],
   "source": [
    "#7-Develop a program that prints the squares of numbers from 1 to 5 using a `for` loop.\n",
    "for i in range(1,6):\n",
    "    square_numbers=i**2\n",
    "    print(f\"square_number of {i} is {square}:\",square_numbers)"
   ]
  },
  {
   "cell_type": "code",
   "execution_count": 6,
   "id": "92bf636b",
   "metadata": {},
   "outputs": [
    {
     "name": "stdout",
     "output_type": "stream",
     "text": [
      "enter the string:supriya yarrannagari\n",
      "length of the string is: 20\n"
     ]
    }
   ],
   "source": [
    "#8- Create a program to find the length of a string without using the `len()` function.\n",
    "string=input(\"enter the string:\")\n",
    "length=0\n",
    "for char in string:\n",
    "    length+=1\n",
    "print(f\"length of the string is: {length}\")\n",
    "    "
   ]
  },
  {
   "cell_type": "code",
   "execution_count": 7,
   "id": "aa0b4c24",
   "metadata": {},
   "outputs": [
    {
     "name": "stdout",
     "output_type": "stream",
     "text": [
      "list of the average numbers: 35.0\n"
     ]
    }
   ],
   "source": [
    "#9-Write a program that calculates the average of a list of numbers using a `for` loop.\n",
    "list=[10,20,30,40,50,60]\n",
    "total=0\n",
    "count=0\n",
    "for num in list:\n",
    "    total+=num\n",
    "    count+=1\n",
    "average=total/count\n",
    "print(\"list of the average numbers:\",average)"
   ]
  },
  {
   "cell_type": "code",
   "execution_count": 10,
   "id": "172f86c4",
   "metadata": {},
   "outputs": [
    {
     "name": "stdout",
     "output_type": "stream",
     "text": [
      "Enter the number of Fibonacci numbers to generate: 15\n",
      "The first 15 Fibonacci numbers are:\n",
      "0 1 1 2 3 5 8 13 21 34 55 89 144 233 377 "
     ]
    }
   ],
   "source": [
    "#10-Develop a program that prints the first `n` Fibonacci numbers using a `for` loop.\n",
    "n = int(input(\"Enter the number of Fibonacci numbers to generate: \"))\n",
    "fibonacci_sequence = [0, 1]\n",
    "for i in range(2, n):r\n",
    "    next_fibonacci = fibonacci_sequence[-1] + fibonacci_sequence[-2]\n",
    "    fibonacci_sequence.append(next_fibonacci)\n",
    "print(f\"The first {n} Fibonacci numbers are:\")\n",
    "for num in fibonacci_sequence:\n",
    "    print(num, end=\" \")"
   ]
  },
  {
   "cell_type": "markdown",
   "id": "b9d1450e",
   "metadata": {},
   "source": [
    "# intermediate level "
   ]
  },
  {
   "cell_type": "code",
   "execution_count": 3,
   "id": "a277f775",
   "metadata": {},
   "outputs": [
    {
     "name": "stdout",
     "output_type": "stream",
     "text": [
      "the list doesn't contains duplicates.\n"
     ]
    }
   ],
   "source": [
    "#11- Write a program to check if a given list contains any duplicates using a `for` loop.\n",
    "def has_duplicated(list):\n",
    "    for i in range(len(list)):\n",
    "        for j in range(i+1,len(list)):\n",
    "            if list[i]==list[j]:\n",
    "                return True\n",
    "    return False\n",
    "list1=[1,2,3,4,5,6,7,8,9]\n",
    "result=has_duplicated(list1)\n",
    "if result:\n",
    "    print(\"the list contains duplicates.\")\n",
    "else:\n",
    "    print(\"the list doesn't contains duplicates.\")\n"
   ]
  },
  {
   "cell_type": "code",
   "execution_count": 14,
   "id": "3d783024",
   "metadata": {},
   "outputs": [
    {
     "name": "stdout",
     "output_type": "stream",
     "text": [
      "Enter the min: 1\n",
      "Enter the max : 100\n",
      "2\n",
      "3\n",
      "5\n",
      "7\n",
      "11\n",
      "13\n",
      "17\n",
      "19\n",
      "23\n",
      "29\n",
      "31\n",
      "37\n",
      "41\n",
      "43\n",
      "47\n",
      "53\n",
      "59\n",
      "61\n",
      "67\n",
      "71\n",
      "73\n",
      "79\n",
      "83\n",
      "89\n",
      "97\n"
     ]
    }
   ],
   "source": [
    "#12- Create a program that prints the prime numbers in a given range using a `for` loop.\n",
    "#Read user input\n",
    "min=int(input(\"Enter the min: \"))\n",
    "max = int(input(\"Enter the max : \"))\n",
    "for n in range(max + 1):\n",
    "    if n > 1:\n",
    "        for i in range(2,n):\n",
    "            if (n % i) == 0:\n",
    "                break\n",
    "        else:\n",
    "            print(n)"
   ]
  },
  {
   "cell_type": "code",
   "execution_count": 12,
   "id": "77e2a625",
   "metadata": {},
   "outputs": [
    {
     "name": "stdout",
     "output_type": "stream",
     "text": [
      "enter the string:supriya yarrannagari\n",
      "count of the vowels in the given string: 8\n"
     ]
    }
   ],
   "source": [
    "#13-Develop a program that counts the number of vowels in a string using a `for` loop.\n",
    "def count_vowels(input_string):\n",
    "    count_vowel=0\n",
    "    vowels='aeiouAEIOU'\n",
    "    for char in input_string:\n",
    "        if char in vowels:\n",
    "            count_vowel+=1\n",
    "    return count_vowel\n",
    "input_string=input(\"enter the string:\")\n",
    "result=count_vowels(input_string)\n",
    "\n",
    "print(f\"count of the vowels in the given string:\",result)"
   ]
  },
  {
   "cell_type": "code",
   "execution_count": 2,
   "id": "debedede",
   "metadata": {},
   "outputs": [
    {
     "name": "stdout",
     "output_type": "stream",
     "text": [
      "the maximum element in a 2d list is: 7\n"
     ]
    }
   ],
   "source": [
    "#14-Write a program to find the maximum element in a 2D list using a nested `for` loop.\n",
    "def find_the_maximum_element(matrix):\n",
    "    max_element=float(\"-inf\")\n",
    "    for row in matrix:\n",
    "        for element in row:\n",
    "            if element>max_element:\n",
    "                max_element=element\n",
    "    return max_element\n",
    "matrix=[\n",
    "    [1,2,3],\n",
    "    [3,4,5],\n",
    "    [5,6,7]\n",
    "]\n",
    "maximum=find_the_maximum_element(matrix)\n",
    "print(\"the maximum element in a 2d list is:\",maximum)\n",
    "                "
   ]
  },
  {
   "cell_type": "code",
   "execution_count": 17,
   "id": "86e02086",
   "metadata": {},
   "outputs": [
    {
     "name": "stdout",
     "output_type": "stream",
     "text": [
      "original list: [1, 2, 3, 4, 6, 3, 8, 3, 6, 3]\n",
      "list after removing 3 : [1, 2, 4, 6, 8, 6]\n"
     ]
    }
   ],
   "source": [
    "#15-Create a program that removes all occurrences of a specific element from a list using a `for` loop.\n",
    "def remove_all_occurrences(lst,element_to_remove):\n",
    "    result=[]\n",
    "    for item in lst:\n",
    "        if item!=element_to_remove:\n",
    "            result.append(item)\n",
    "    return result\n",
    "my_list=[1,2,3,4,6,3,8,3,6,3]\n",
    "element_to_remove=3\n",
    "new_list=remove_all_occurrences(my_list,element_to_remove)\n",
    "print(\"original list:\",my_list)\n",
    "print(\"list after removing\",element_to_remove,\":\",new_list)\n",
    "        "
   ]
  },
  {
   "cell_type": "code",
   "execution_count": 19,
   "id": "ca18b62c",
   "metadata": {},
   "outputs": [
    {
     "name": "stdout",
     "output_type": "stream",
     "text": [
      "multiplication of the table for 1:\n",
      "1*1=1\n",
      "1*2=2\n",
      "1*3=3\n",
      "1*4=4\n",
      "1*5=5\n",
      "1*6=6\n",
      "1*7=7\n",
      "1*8=8\n",
      "1*9=9\n",
      "1*10=10\n",
      "\n",
      "multiplication of the table for 2:\n",
      "2*1=2\n",
      "2*2=4\n",
      "2*3=6\n",
      "2*4=8\n",
      "2*5=10\n",
      "2*6=12\n",
      "2*7=14\n",
      "2*8=16\n",
      "2*9=18\n",
      "2*10=20\n",
      "\n",
      "multiplication of the table for 3:\n",
      "3*1=3\n",
      "3*2=6\n",
      "3*3=9\n",
      "3*4=12\n",
      "3*5=15\n",
      "3*6=18\n",
      "3*7=21\n",
      "3*8=24\n",
      "3*9=27\n",
      "3*10=30\n",
      "\n",
      "multiplication of the table for 4:\n",
      "4*1=4\n",
      "4*2=8\n",
      "4*3=12\n",
      "4*4=16\n",
      "4*5=20\n",
      "4*6=24\n",
      "4*7=28\n",
      "4*8=32\n",
      "4*9=36\n",
      "4*10=40\n",
      "\n",
      "multiplication of the table for 5:\n",
      "5*1=5\n",
      "5*2=10\n",
      "5*3=15\n",
      "5*4=20\n",
      "5*5=25\n",
      "5*6=30\n",
      "5*7=35\n",
      "5*8=40\n",
      "5*9=45\n",
      "5*10=50\n",
      "\n"
     ]
    }
   ],
   "source": [
    "#16- Develop a program that generates a multiplication table for numbers from 1 to 5 using a nested `for` loop.\n",
    "start=1\n",
    "end=5\n",
    "for i in range(start,end+1):\n",
    "    print(f\"multiplication of the table for {i}:\")\n",
    "    for j in range(1,11):\n",
    "        result=i*j\n",
    "        print(f\"{i}*{j}={result}\")\n",
    "    print()\n",
    "            "
   ]
  },
  {
   "cell_type": "code",
   "execution_count": 23,
   "id": "2017fe92",
   "metadata": {},
   "outputs": [
    {
     "name": "stdout",
     "output_type": "stream",
     "text": [
      "fahrenheit temperature:\n",
      "[32, 46, 345, 231, 78, 136]\n",
      "celsius temperature\n",
      "[0.0, 7.777777777777778, 173.88888888888889, 110.55555555555556, 25.555555555555557, 57.77777777777778]\n"
     ]
    }
   ],
   "source": [
    "#17-Write a program that converts a list of Fahrenheit temperatures to Celsius using a `for` loop.\n",
    "def fahrenheit_to_celsius(fahrenheit):\n",
    "    return (fahrenheit-32)*5/9\n",
    "fahrenheit_temperature=[32,46,345,231,78,136]\n",
    "print(\"fahrenheit temperature:\")\n",
    "print(fahrenheit_temperature)\n",
    "celsius_temperature=[]\n",
    "for fahrenheit in fahrenheit_temperature:\n",
    "    celsius=fahrenheit_to_celsius(fahrenheit)\n",
    "    celsius_temperature.append(celsius)\n",
    "print(\"celsius temperature\")\n",
    "print(celsius_temperature)"
   ]
  },
  {
   "cell_type": "code",
   "execution_count": 34,
   "id": "20d07490",
   "metadata": {},
   "outputs": [
    {
     "name": "stdout",
     "output_type": "stream",
     "text": [
      "common elements: [4, 5]\n"
     ]
    }
   ],
   "source": [
    "#18-Create a program to print the common elements from two lists using a `for` loop.\n",
    "def find_common_elements(list1,list2):\n",
    "    common_elements=[]\n",
    "    for element1 in list1:\n",
    "        if element1 in list2:\n",
    "            common_elements.append(element1)\n",
    "    return common_elements\n",
    "list1=[1,2,3,4,5]\n",
    "list2=[4,5,6,7,8]\n",
    "common_elements=find_common_elements(list1,list2)\n",
    "if common_elements:\n",
    "    print(\"common elements:\",common_elements)\n",
    "else:\n",
    "    print(\"no common elements found\")"
   ]
  },
  {
   "cell_type": "code",
   "execution_count": 42,
   "id": "c1b017bd",
   "metadata": {},
   "outputs": [
    {
     "name": "stdout",
     "output_type": "stream",
     "text": [
      "the right angled triangle of 5 rows:\n",
      "* \n",
      "* * \n",
      "* * * \n",
      "* * * * \n",
      "* * * * * \n"
     ]
    }
   ],
   "source": [
    "#19- Develop a program that prints the pattern of right-angled triangles using a `for` loop. Use ‘*’ to draw the pattern.\n",
    "def right_angled_triangle(n):\n",
    "    for i in range(1,n+1):\n",
    "        for j in range(i):\n",
    "            print(\"*\",end=\" \")\n",
    "        print()\n",
    "num_rows=5\n",
    "print(f\"the right angled triangle of {num_rows} rows:\")\n",
    "right_angled_triangle(num_rows)\n"
   ]
  },
  {
   "cell_type": "code",
   "execution_count": 49,
   "id": "0c80ee8a",
   "metadata": {},
   "outputs": [
    {
     "name": "stdout",
     "output_type": "stream",
     "text": [
      "enter the first number:3\n",
      "enter the second number:2\n",
      "the gcd of {num1} and {num2} is gcd 1\n"
     ]
    }
   ],
   "source": [
    "#20-. Write a program to find the greatest common divisor (GCD) of two numbers using a `for` loop.\n",
    "def find_gcd(a,b):\n",
    "    while b:\n",
    "        a,b=b,a%b\n",
    "    return a\n",
    "num1=int(input(\"enter the first number:\"))\n",
    "num2=int(input(\"enter the second number:\"))\n",
    "gcd=find_gcd(num1,num2)\n",
    "print(\"the gcd of {num1} and {num2} is gcd\",gcd)"
   ]
  },
  {
   "cell_type": "markdown",
   "id": "2d8d0f7b",
   "metadata": {},
   "source": [
    "# Advanced level"
   ]
  },
  {
   "cell_type": "code",
   "execution_count": 6,
   "id": "693d538e",
   "metadata": {},
   "outputs": [
    {
     "name": "stdout",
     "output_type": "stream",
     "text": [
      "number: 1, sum of digits: 1\n",
      "number: 2, sum of digits: 2\n",
      "number: 3, sum of digits: 3\n",
      "number: 4, sum of digits: 4\n",
      "number: 5, sum of digits: 5\n",
      "number: 6, sum of digits: 6\n",
      "number: 7, sum of digits: 7\n",
      "number: 8, sum of digits: 8\n",
      "number: 9, sum of digits: 9\n",
      "number: 10, sum of digits: 1\n"
     ]
    }
   ],
   "source": [
    "#21-Create a program that calculates the sum of the digits of numbers in a list using a list comprehension.\n",
    "def sum_of_digits(number):\n",
    "    return sum(int(digit) for digit in str(number))\n",
    "\n",
    "numbers = [1, 2, 3, 4, 5, 6, 7, 8, 9, 10]\n",
    "sums = [sum_of_digits(number) for number in numbers]\n",
    "for i in range(len(numbers)):\n",
    "    print(f\"number: {numbers[i]}, sum of digits: {sums[i]}\")"
   ]
  },
  {
   "cell_type": "code",
   "execution_count": 13,
   "id": "5617ab8e",
   "metadata": {},
   "outputs": [
    {
     "name": "stdout",
     "output_type": "stream",
     "text": [
      "enter the input:12\n",
      "prime_factors of 12 of:[2, 2, 3]\n"
     ]
    }
   ],
   "source": [
    "#22. Write a program to find the prime factors of a given number using a `for` loop and list comprehension.\n",
    "def prime_factors(n):\n",
    "    factors=[]\n",
    "    divisor=2\n",
    "    while divisor <=n:\n",
    "        if n % divisor ==0:\n",
    "            factors.append(divisor)\n",
    "            n//=divisor\n",
    "        else:\n",
    "            divisor+=1\n",
    "    return factors\n",
    "number=int(input(\"enter the input:\"))\n",
    "factors=prime_factors(number)\n",
    "print(f\"prime_factors of {number} of:{factors}\")"
   ]
  },
  {
   "cell_type": "code",
   "execution_count": 18,
   "id": "6f111ed1",
   "metadata": {},
   "outputs": [
    {
     "name": "stdout",
     "output_type": "stream",
     "text": [
      "original list: [1, 2, 2, 3, 4, 4, 5, 5, 6, 7, 7, 8, 9, 9]\n",
      "unique list: [1, 2, 3, 4, 5, 6, 7, 8, 9]\n"
     ]
    }
   ],
   "source": [
    "#23. Develop a program that extracts unique elements from a list and stores them in a new list using a list comprehension.\n",
    "original_list=[1,2,2,3,4,4,5,5,6,7,7,8,9,9]\n",
    "unique_list=[ x for i,x in enumerate(original_list) if x not in original_list[:i]]\n",
    "print(\"original list:\",original_list)\n",
    "print(\"unique list:\",unique_list)"
   ]
  },
  {
   "cell_type": "code",
   "execution_count": 12,
   "id": "81a7e1dc",
   "metadata": {},
   "outputs": [
    {
     "name": "stdout",
     "output_type": "stream",
     "text": [
      "palindromic numbers up to  1000 are: [1, 2, 3, 4, 5, 6, 7, 8, 9, 11, 22, 33, 44, 55, 66, 77, 88, 99, 101, 111, 121, 131, 141, 151, 161, 171, 181, 191, 202, 212, 222, 232, 242, 252, 262, 272, 282, 292, 303, 313, 323, 333, 343, 353, 363, 373, 383, 393, 404, 414, 424, 434, 444, 454, 464, 474, 484, 494, 505, 515, 525, 535, 545, 555, 565, 575, 585, 595, 606, 616, 626, 636, 646, 656, 666, 676, 686, 696, 707, 717, 727, 737, 747, 757, 767, 777, 787, 797, 808, 818, 828, 838, 848, 858, 868, 878, 888, 898, 909, 919, 929, 939, 949, 959, 969, 979, 989, 999]\n",
      "[1, 2, 3, 4, 5, 6, 7, 8, 9, 11, 22, 33, 44, 55, 66, 77, 88, 99, 101, 111, 121, 131, 141, 151, 161, 171, 181, 191, 202, 212, 222, 232, 242, 252, 262, 272, 282, 292, 303, 313, 323, 333, 343, 353, 363, 373, 383, 393, 404, 414, 424, 434, 444, 454, 464, 474, 484, 494, 505, 515, 525, 535, 545, 555, 565, 575, 585, 595, 606, 616, 626, 636, 646, 656, 666, 676, 686, 696, 707, 717, 727, 737, 747, 757, 767, 777, 787, 797, 808, 818, 828, 838, 848, 858, 868, 878, 888, 898, 909, 919, 929, 939, 949, 959, 969, 979, 989, 999]\n"
     ]
    }
   ],
   "source": [
    "#24. Create a program that generates a list of all palindromic numbers up to a specified limit using a list comprehension.\n",
    "def is_palindrome(number):\n",
    "    return str(number)==str(number)[::-1]\n",
    "palindrome_numbers=[num for num in range(1,limit+1) if is_palindrome(num)]\n",
    "print(\"palindromic numbers up to \",limit,\"are:\",palindrome_numbers)\n",
    "\n",
    "limit=1000\n",
    "palindromic_numbers_list=generate_palindromic_numbers(limit)\n",
    "print(palindromic_numbers_list)"
   ]
  },
  {
   "cell_type": "code",
   "execution_count": 17,
   "id": "be333f0c",
   "metadata": {},
   "outputs": [
    {
     "name": "stdout",
     "output_type": "stream",
     "text": [
      "[1, 2, 3, 4, 5, 6, 7, 8, 9]\n"
     ]
    }
   ],
   "source": [
    "#25. Write a program to flatten a nested list using list comprehension.\n",
    "def flatten_nested_list(nested_list):\n",
    "    flattened_list=[item for sublist in nested_list for item in sublist]\n",
    "    return flattened_list\n",
    "nested_list=[[1,2,3],[4,5],[6,7,8,9]]\n",
    "flattened_list = flatten_nested_list(nested_list)\n",
    "print(flattened_list)\n"
   ]
  },
  {
   "cell_type": "code",
   "execution_count": 22,
   "id": "51982a8d",
   "metadata": {},
   "outputs": [
    {
     "name": "stdout",
     "output_type": "stream",
     "text": [
      "30 25\n"
     ]
    }
   ],
   "source": [
    "#26. Develop a program that computes the sum of even and odd numbers in a list separately using list comprehension.\n",
    "def sum_even_odd_numbers(numbers):\n",
    "    even_num=sum([num for num in numbers if num %2==0])\n",
    "    odd_num=sum([num for num in numbers if num %2!=0])\n",
    "    return even_num, odd_num\n",
    "numbers=[1,2,3,4,5,6,7,8,9,10]\n",
    "even_sum,odd_sum=sum_even_odd_numbers(numbers)\n",
    "print(even_sum,odd_sum)\n"
   ]
  },
  {
   "cell_type": "code",
   "execution_count": 23,
   "id": "6caee678",
   "metadata": {},
   "outputs": [
    {
     "name": "stdout",
     "output_type": "stream",
     "text": [
      "[1, 9, 25, 49, 81]\n"
     ]
    }
   ],
   "source": [
    "#27. Create a program that generates a list of squares of odd numbers between 1 and 10 using list comprehension.\n",
    "odd_squares=[num ** 2 for num in range(1,11) if num % 2!=0]\n",
    "print(odd_squares)\n",
    "    "
   ]
  },
  {
   "cell_type": "code",
   "execution_count": 12,
   "id": "c47810a9",
   "metadata": {},
   "outputs": [
    {
     "name": "stdout",
     "output_type": "stream",
     "text": [
      "{'a': 1, 'b': 2, 'c': 3}\n"
     ]
    }
   ],
   "source": [
    "#28. Write a program that combines two lists into a dictionary using list comprehension.\n",
    "keys=[\"a\",\"b\",\"c\"]\n",
    "values=[1,2,3]\n",
    "my_dict = { keys[i]: values[i] for i in range(min(len(keys), len(values)))}\n",
    "print(my_dict)  "
   ]
  },
  {
   "cell_type": "code",
   "execution_count": 13,
   "id": "bed3ff37",
   "metadata": {},
   "outputs": [
    {
     "name": "stdout",
     "output_type": "stream",
     "text": [
      "['u', 'i', 'a', 'a', 'a', 'a', 'a', 'i']\n"
     ]
    }
   ],
   "source": [
    "#29. Develop a program that extracts the vowels from a string and stores them in a list using list comprehension.\n",
    "input_string=\"Supriya Yarrannagari\"\n",
    "vowels=[char for char in input_string if char.lower() in 'aeiou']\n",
    "print(vowels)\n",
    "\n",
    "\n",
    "\n"
   ]
  },
  {
   "cell_type": "code",
   "execution_count": 16,
   "id": "c2ceaaff",
   "metadata": {},
   "outputs": [
    {
     "name": "stdout",
     "output_type": "stream",
     "text": [
      "['123', '456', '789', '345', '143']\n"
     ]
    }
   ],
   "source": [
    "#30. Create a program that removes all non-numeric characters from a list of strings using list comprehension.\n",
    "string_list=[\"abc123\",\"456xyz\",\"yarr789\",\"345\",\"sup143\"]\n",
    "numeric_strings=[''.join(char for char in  s if char.isnumeric()) for s in string_list]\n",
    "print(numeric_strings)"
   ]
  },
  {
   "cell_type": "markdown",
   "id": "519a2806",
   "metadata": {},
   "source": [
    "# Challenge level"
   ]
  },
  {
   "cell_type": "code",
   "execution_count": 20,
   "id": "3af075a2",
   "metadata": {},
   "outputs": [
    {
     "name": "stdout",
     "output_type": "stream",
     "text": [
      "[2, 3, 5, 7, 11, 13, 17, 19, 23, 29, 31, 37, 41, 43, 47, 53, 59, 61, 67, 71, 73, 79, 83, 89, 97]\n"
     ]
    }
   ],
   "source": [
    "#31. Write a program to generate a list of prime numbers using the Sieve of Eratosthenes algorithm and list comprehension.\n",
    "def Sieve_of_Eratosthenes(limit):\n",
    "    is_prime=[True]*(limit+1)\n",
    "    is_prime[0]=is_prime[1]=False\n",
    "    for number in range(2, int(limit **0.5)+1):\n",
    "        if is_prime[number]:\n",
    "            for multiple in range(number**2,limit+1, number):\n",
    "                is_prime[multiple]=False\n",
    "    primes=[number for number, prime in enumerate (is_prime) if prime]\n",
    "    return primes\n",
    "limit=100\n",
    "prime_numbers= Sieve_of_Eratosthenes(limit)\n",
    "print(prime_numbers)\n",
    "            "
   ]
  },
  {
   "cell_type": "code",
   "execution_count": 22,
   "id": "278f85b9",
   "metadata": {},
   "outputs": [
    {
     "name": "stdout",
     "output_type": "stream",
     "text": [
      "[(15, 20, 25), (20, 21, 29), (6, 8, 10), (10, 24, 26), (3, 4, 5), (8, 15, 17), (9, 12, 15), (12, 16, 20), (5, 12, 13), (18, 24, 30), (7, 24, 25)]\n"
     ]
    }
   ],
   "source": [
    "#32. Create a program that generates a list of all Pythagorean triplets up to a specified limit using list comprehension.\n",
    "limit=30\n",
    "triplets=[(a,b,c) for a in range(1,limit+1) for b in range(a,limit+1) for c in range(b,limit+1) if a**2+b**2==c**2]\n",
    "triplets=list(set(triplets))\n",
    "print(triplets)"
   ]
  },
  {
   "cell_type": "code",
   "execution_count": 23,
   "id": "f5145946",
   "metadata": {},
   "outputs": [
    {
     "name": "stdout",
     "output_type": "stream",
     "text": [
      "[(1, 'a'), (1, 'b'), (1, 'c'), (2, 'a'), (2, 'b'), (2, 'c'), (3, 'a'), (3, 'b'), (3, 'c')]\n"
     ]
    }
   ],
   "source": [
    "#33. Develop a program that generates a list of all possible combinations of two lists using list comprehension.\n",
    "list1=[1,2,3]\n",
    "list2=[\"a\",\"b\", \"c\"]\n",
    "combinations=[(x,y) for x in list1 for y in list2]\n",
    "print(combinations)"
   ]
  },
  {
   "cell_type": "code",
   "execution_count": 28,
   "id": "4b65c481",
   "metadata": {},
   "outputs": [
    {
     "name": "stdout",
     "output_type": "stream",
     "text": [
      "mean:5.066666666666666\n",
      "median:5\n",
      "mode:2\n"
     ]
    }
   ],
   "source": [
    "#34. Write a program that calculates the mean, median, and mode of a list of numbers using list comprehension.\n",
    "from statistics import mean , median, mode\n",
    "numbers=[1,2,2,3,4,4,5,6,6,7,8,8,9,9,2]\n",
    "mean_value=mean(numbers)\n",
    "sorted_numbers=sorted(numbers)\n",
    "n=len(sorted_numbers)\n",
    "median_value=(sorted_numbers[n//2]+sorted_numbers[(n-1)//2]/2 if n % 2 == 0 else sorted_numbers[n//2])\n",
    "mode_value=mode(numbers)\n",
    "print(f\"mean:{mean_value}\")\n",
    "print(f\"median:{median_value}\")\n",
    "print(f\"mode:{mode_value}\")                                   "
   ]
  },
  {
   "cell_type": "code",
   "execution_count": 35,
   "id": "147f7a4a",
   "metadata": {},
   "outputs": [
    {
     "name": "stdout",
     "output_type": "stream",
     "text": [
      "[1]\n",
      "[1, 1]\n",
      "[1, 2, 1]\n",
      "[1, 3, 3, 1]\n",
      "[1, 4, 6, 4, 1]\n"
     ]
    }
   ],
   "source": [
    "#35. Create a program that generates Pascal's triangle up to a specified number of rows using list comprehension.\n",
    "def generate_Pascals_triangle(rows):\n",
    "    triangle=[[1]]\n",
    "    for _ in range(1,rows):\n",
    "        previous_row=triangle[-1]\n",
    "        new_row=[1]+[previous_row[i]+previous_row[i+1] for i in (len(previous_row)-1)]+[1]\n",
    "        triangle.append(new_row)\n",
    "    return triangle\n",
    "num_rows= 5\n",
    "pascals_triangle = generate_pascals_triangle(num_rows)\n",
    "for row in pascals_triangle:\n",
    "    print(row)\n"
   ]
  },
  {
   "cell_type": "code",
   "execution_count": 38,
   "id": "ad10d7a7",
   "metadata": {},
   "outputs": [
    {
     "name": "stdout",
     "output_type": "stream",
     "text": [
      "the sum of digits of 1! is 1\n",
      "the sum of digits of 2! is 2\n",
      "the sum of digits of 3! is 6\n",
      "the sum of digits of 4! is 6\n",
      "the sum of digits of 5! is 3\n"
     ]
    }
   ],
   "source": [
    "#36. Develop a program that calculates the sum of the digits of a factorial of numbers from 1 to 5 using list comprehension.\n",
    "def factorial(n):\n",
    "    if n==0:\n",
    "        return 1\n",
    "    else:\n",
    "        return n * factorial(n-1)\n",
    "sum_of_digits=[sum(int(digit) for digit in str(factorial(n))) for n in range(1,6)]\n",
    "for n , result in enumerate(sum_of_digits,start=1):\n",
    "    print(f\"the sum of digits of {n}! is {result}\")\n",
    "                   "
   ]
  },
  {
   "cell_type": "code",
   "execution_count": 39,
   "id": "9f14904a",
   "metadata": {},
   "outputs": [
    {
     "name": "stdout",
     "output_type": "stream",
     "text": [
      "the longest_word is: yarrannagari\n"
     ]
    }
   ],
   "source": [
    "#37. Write a program that finds the longest word in a sentence using list comprehension.\n",
    "sentence=\"supriya reddy belongs to a yarrannagari family not others\"\n",
    "words=sentence.split()\n",
    "longest_word=max(words,key= lambda word:len(word))\n",
    "print(f\"the longest_word is: {longest_word}\")"
   ]
  },
  {
   "cell_type": "code",
   "execution_count": 42,
   "id": "343ebdc8",
   "metadata": {},
   "outputs": [
    {
     "name": "stdout",
     "output_type": "stream",
     "text": [
      "['education', 'environment', 'discipline']\n"
     ]
    }
   ],
   "source": [
    "#38. Create a program that filters a list of strings to include only those with more than three vowels using list comprehension.\n",
    "string_list=[\"supriya\",\"keyskills\",\"education\",\"environment\",\"knowledge\",\"discipline\",\"hard working\",\"focus\"]\n",
    "def count_vowels(string):\n",
    "    vowels=\"aeiouAEIOU\"\n",
    "    return sum(1 for char in string if char in vowels)\n",
    "filtered_strings=[string for string in string_list if count_vowels (string) >3]\n",
    "print(filtered_strings)"
   ]
  },
  {
   "cell_type": "code",
   "execution_count": 46,
   "id": "760fd891",
   "metadata": {},
   "outputs": [
    {
     "name": "stdout",
     "output_type": "stream",
     "text": [
      "the total sum of the digits from 1 to 1000 numbers:13501\n"
     ]
    }
   ],
   "source": [
    "#39. Develop a program that calculates the sum of the digits of numbers from 1 to 1000 using list comprehension.\n",
    "sum_of_digits=[sum(int(digit) for digit in str(number)) for number in range(1, 1001)]\n",
    "total_sum=sum(sum_of_digits)\n",
    "print(f\"the total sum of the digits from 1 to 1000 numbers:{total_sum}\")"
   ]
  },
  {
   "cell_type": "code",
   "execution_count": 49,
   "id": "ecef3f3c",
   "metadata": {},
   "outputs": [
    {
     "name": "stdout",
     "output_type": "stream",
     "text": [
      "[2, 3, 5, 7, 11, 101, 131, 151, 181, 191, 313, 353, 373, 383, 727, 757, 787, 797, 919, 929]\n"
     ]
    }
   ],
   "source": [
    "#40. Write a program that generates a list of prime palindromic numbers using list comprehension.\n",
    "def is_prime(n):\n",
    "    if n <=1:\n",
    "        return False\n",
    "    if n <= 3:\n",
    "        return True\n",
    "    if n % 2==0 or n % 3 == 0:\n",
    "        return False\n",
    "    i = 5\n",
    "    while i * i <= n:\n",
    "        if n % i == 0 or n % (i + 2) == 0:\n",
    "            return False\n",
    "        i +=6\n",
    "    return True\n",
    "def is_palindromic(n):\n",
    "    return str(n) == str(n)[::-1]\n",
    "prime_palindromic_numbers=[ n for n in range(1,1000) if is_prime(n) and is_palindromic(n)]\n",
    "print(prime_palindromic_numbers)"
   ]
  },
  {
   "cell_type": "code",
   "execution_count": null,
   "id": "3465242c",
   "metadata": {},
   "outputs": [],
   "source": []
  }
 ],
 "metadata": {
  "kernelspec": {
   "display_name": "Python 3 (ipykernel)",
   "language": "python",
   "name": "python3"
  },
  "language_info": {
   "codemirror_mode": {
    "name": "ipython",
    "version": 3
   },
   "file_extension": ".py",
   "mimetype": "text/x-python",
   "name": "python",
   "nbconvert_exporter": "python",
   "pygments_lexer": "ipython3",
   "version": "3.10.9"
  }
 },
 "nbformat": 4,
 "nbformat_minor": 5
}
